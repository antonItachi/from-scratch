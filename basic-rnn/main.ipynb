{
 "cells": [
  {
   "metadata": {
    "ExecuteTime": {
     "end_time": "2024-09-16T15:30:21.390809Z",
     "start_time": "2024-09-16T15:30:21.236220Z"
    }
   },
   "cell_type": "code",
   "source": [
    "import numpy as np\n",
    "import os\n",
    "import regex as re\n",
    "import requests"
   ],
   "id": "9a0b2a02c412a42b",
   "outputs": [],
   "execution_count": 14
  },
  {
   "metadata": {
    "ExecuteTime": {
     "end_time": "2024-09-16T15:43:25.284764Z",
     "start_time": "2024-09-16T15:43:25.261826Z"
    }
   },
   "cell_type": "code",
   "source": [
    "# download the tiny shakespeare dataset\n",
    "input_file_path = os.path.join(os.path.dirname(\"../data/\"), 'input.txt')\n",
    "if not os.path.exists(input_file_path):\n",
    "    data_url = 'https://raw.githubusercontent.com/karpathy/char-rnn/master/data/tinyshakespeare/input.txt'\n",
    "    with open(input_file_path, 'w', encoding='utf-8') as f:\n",
    "        f.write(requests.get(data_url).text)\n",
    "\n",
    "with open(input_file_path, 'r', encoding='utf-8') as f:\n",
    "    data = f.read()\n",
    "n = len(data)"
   ],
   "id": "c3aff3edeb0f50df",
   "outputs": [],
   "execution_count": 48
  },
  {
   "metadata": {
    "ExecuteTime": {
     "end_time": "2024-09-16T15:43:31.002956Z",
     "start_time": "2024-09-16T15:43:30.990989Z"
    }
   },
   "cell_type": "code",
   "source": [
    "train_data = data[:int(n*0.9)]\n",
    "val_data = data[int(n*0.9):]"
   ],
   "id": "f36d85f481eee424",
   "outputs": [],
   "execution_count": 49
  },
  {
   "metadata": {},
   "cell_type": "code",
   "outputs": [],
   "execution_count": null,
   "source": [
    "def cross_entropy_loss(y, t):\n",
    "    return -np.sum(np.log())"
   ],
   "id": "d54139e428cd537d"
  },
  {
   "metadata": {
    "ExecuteTime": {
     "end_time": "2024-09-16T16:13:55.665426Z",
     "start_time": "2024-09-16T16:13:55.644481Z"
    }
   },
   "cell_type": "code",
   "source": [
    "class DataLoader(object):\n",
    "    def __init__(self, data, sequence_length, batch_size):\n",
    "        \"\"\"\n",
    "        Initializes the DataLoader with the given data, sequence length, and batch size.\n",
    "        \n",
    "        Args:\n",
    "            data (str): The input text data.\n",
    "            sequence_length (int): The length of each sequence.\n",
    "            batch_size (int): The size of each batch.\n",
    "        \"\"\"\n",
    "        self.text = data\n",
    "        \n",
    "        self.sequence_length = sequence_length\n",
    "        self.batch_size = batch_size\n",
    "        \n",
    "        # Getting list of words, from preprocessed text\n",
    "        self.word_list = self._text_preprocessing()\n",
    "        \n",
    "        # Unique words\n",
    "        self.unique_words = set(self.word_list)\n",
    "        \n",
    "        # Adding unknown token for exceptions\n",
    "        self.unique_words.add('<UNK>')\n",
    "        \n",
    "        # Create a vocabulary with '<UNK>' first\n",
    "        self.word_to_ix = {'<UNK>': 0}\n",
    "        self.word_to_ix.update({tok: idx + 1 for idx, tok in enumerate(self.unique_words - {'<UNK>'})})\n",
    "        \n",
    "        # Create the inverse mapping\n",
    "        self.ix_to_word = {idx: tok for tok, idx in self.word_to_ix.items()}\n",
    "        \n",
    "        self.vocab_size = len(self.word_to_ix)\n",
    "        \n",
    "    def _text_preprocessing(self):\n",
    "        \"\"\"\n",
    "        Preprocesses the text by converting to lowercase, removing numbers, punctuation, and special tokens.\n",
    "        \n",
    "        Returns:\n",
    "            str: The preprocessed text.\n",
    "        \"\"\"\n",
    "        self.text = self.text.lower()\n",
    "        self.text = re.sub(r'\\d+', '', self.text)  # Remove numbers\n",
    "        self.text = re.sub(r'[^\\w\\s]', '', self.text)  # Remove punctuation\n",
    "        self.text = re.sub(r'\\W+', ' ', self.text)  # Remove special tokens\n",
    "        self.text = self.text.split(' ')\n",
    "        return self.text\n",
    "    \n",
    "    def encode(self, words):\n",
    "        \"\"\"\n",
    "        Encodes the given words into their corresponding indices using the vocabulary.\n",
    "        \n",
    "        Args:\n",
    "            words (str): The words to encode.\n",
    "        \n",
    "        Returns:\n",
    "            list: A list of indices representing the encoded words.\n",
    "        \"\"\"\n",
    "        return [self.word_to_ix.get(word, self.word_to_ix['<UNK>']) for word in words.split(' ')]\n",
    "    \n",
    "    def decode(self, indexes):\n",
    "        \"\"\"\n",
    "        Decodes the given indices into their corresponding words using the vocabulary.\n",
    "        \n",
    "        Args:\n",
    "            indexes (list): The indices to decode.\n",
    "        \n",
    "        Returns:\n",
    "            list: A list of words corresponding to the indices.\n",
    "        \"\"\"\n",
    "        return [self.ix_to_word.get(idx, '<UNK>') for idx in indexes]\n",
    "    "
   ],
   "id": "cd0225ea1c1badbf",
   "outputs": [],
   "execution_count": 105
  },
  {
   "metadata": {
    "ExecuteTime": {
     "end_time": "2024-09-16T16:05:32.399984Z",
     "start_time": "2024-09-16T16:05:32.257933Z"
    }
   },
   "cell_type": "code",
   "source": "dl = DataLoader(data=train_data, sequence_length=10, batch_size=10)",
   "id": "333ad7c21117677d",
   "outputs": [],
   "execution_count": 102
  },
  {
   "metadata": {
    "ExecuteTime": {
     "end_time": "2024-09-16T16:06:06.495863Z",
     "start_time": "2024-09-16T16:06:06.475536Z"
    }
   },
   "cell_type": "code",
   "source": [
    "rech = \"you know caiuss\"\n",
    "tech = [102, 2000, 20000000]\n",
    "rech_encoded = dl.encode(rech)\n",
    "techss = dl.decode(tech)\n",
    "tech_encoded = dl.decode(rech_encoded)\n",
    "rech_encoded, tech_encoded, techss"
   ],
   "id": "eea2afff68a76423",
   "outputs": [
    {
     "data": {
      "text/plain": [
       "([7568, 4380, 0], ['you', 'know', '<UNK>'], ['falling', 'disbenchd', '<UNK>'])"
      ]
     },
     "execution_count": 104,
     "metadata": {},
     "output_type": "execute_result"
    }
   ],
   "execution_count": 104
  },
  {
   "metadata": {
    "ExecuteTime": {
     "end_time": "2024-09-16T16:01:31.490010Z",
     "start_time": "2024-09-16T16:01:31.475051Z"
    }
   },
   "cell_type": "code",
   "source": [
    "class RNN(object):\n",
    "    def __init__(self, vocab_size, hidden_size, sequence_length, output_size, batch_size):\n",
    "        self.vocab_size = vocab_size\n",
    "        self.hidden_size = hidden_size\n",
    "        self.output_size = output_size\n",
    "        self.batch_size = batch_size\n",
    "        self.sequence_length = sequence_length \n",
    "        \n",
    "        # Weights initialization\n",
    "        self.U = np.random.randn(self.vocab_size, self.hidden_size)  # input weights  \n",
    "        self.W = np.random.randn(self.hidden_size, self.hidden_size) # hidden weights\n",
    "        self.V = np.random.randn(self.hidden_size, self.output_size) # output weights\n",
    "        self.b = np.zeros((self.hidden_size, 1))\n",
    "        self.c = np.zeros((self.output_size, 1))\n",
    "        \n",
    "    def forward(self, X):\n",
    "        # X shape is (batch_size, sequence_length, feature_size)\n",
    "        # output is the unnormalized log probabilities\n",
    "        # activation is softmax\n",
    "        pass"
   ],
   "id": "db570502e4ff3b66",
   "outputs": [],
   "execution_count": 93
  },
  {
   "metadata": {},
   "cell_type": "code",
   "outputs": [],
   "execution_count": null,
   "source": "",
   "id": "6cf0801a44e728e5"
  }
 ],
 "metadata": {
  "kernelspec": {
   "display_name": "Python 3",
   "language": "python",
   "name": "python3"
  },
  "language_info": {
   "codemirror_mode": {
    "name": "ipython",
    "version": 2
   },
   "file_extension": ".py",
   "mimetype": "text/x-python",
   "name": "python",
   "nbconvert_exporter": "python",
   "pygments_lexer": "ipython2",
   "version": "2.7.6"
  }
 },
 "nbformat": 4,
 "nbformat_minor": 5
}
