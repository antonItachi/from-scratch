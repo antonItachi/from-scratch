{
 "cells": [
  {
   "metadata": {
    "ExecuteTime": {
     "end_time": "2024-09-18T11:12:55.880642Z",
     "start_time": "2024-09-18T11:12:55.875656Z"
    }
   },
   "cell_type": "code",
   "source": [
    "import numpy as np\n",
    "import os\n",
    "import regex as re\n",
    "# import requests\n",
    "import torch\n",
    "from torch import nn"
   ],
   "id": "9a0b2a02c412a42b",
   "outputs": [],
   "execution_count": 15
  },
  {
   "metadata": {
    "ExecuteTime": {
     "end_time": "2024-09-18T11:07:27.280321Z",
     "start_time": "2024-09-18T11:07:27.265719Z"
    }
   },
   "cell_type": "code",
   "source": [
    "def one_hot_encode(x, vocab_size):\n",
    "    \"\"\"\n",
    "    Taking x of shape (B, S) where B is the batch size and S is the sequence length\n",
    "    and return a one-hot encoded version of x of shape (B, S, Vocab_size/features)\n",
    "    \"\"\"\n",
    "    batch_size = np.array(x).shape[0]\n",
    "    seq_len = np.array(x).shape[1]\n",
    "    big_list = np.zeros((batch_size, seq_len, vocab_size))\n",
    "    \n",
    "    for batch in range(batch_size):\n",
    "        big_list[batch, np.arange(seq_len), x[batch]] = 1\n",
    "    return big_list"
   ],
   "id": "df08bfc52085f312",
   "outputs": [],
   "execution_count": 4
  },
  {
   "metadata": {
    "ExecuteTime": {
     "end_time": "2024-09-18T11:07:27.296275Z",
     "start_time": "2024-09-18T11:07:27.281315Z"
    }
   },
   "cell_type": "code",
   "source": [
    "# download the tiny shakespeare dataset\n",
    "\n",
    "# if not os.path.exists(input_file_path):\n",
    "#     data_url = 'https://raw.githubusercontent.com/karpathy/char-rnn/master/data/tinyshakespeare/input.txt'\n",
    "#     with open(input_file_path, 'w', encoding='utf-8') as f:\n",
    "#         f.write(requests.get(data_url).text)\n",
    "\n",
    "input_file_path = os.path.join(os.path.dirname(\"../data/\"), 'input.txt')\n",
    "\n",
    "with open(input_file_path, 'r', encoding='utf-8') as f:\n",
    "    data = f.read()\n",
    "n = len(data)"
   ],
   "id": "c3aff3edeb0f50df",
   "outputs": [],
   "execution_count": 5
  },
  {
   "metadata": {
    "ExecuteTime": {
     "end_time": "2024-09-18T11:07:28.124930Z",
     "start_time": "2024-09-18T11:07:28.111966Z"
    }
   },
   "cell_type": "code",
   "source": [
    "# Split data into train, val folds\n",
    "train_data = data[:int(n*0.9)]\n",
    "val_data = data[int(n*0.9):]"
   ],
   "id": "f36d85f481eee424",
   "outputs": [],
   "execution_count": 6
  },
  {
   "metadata": {
    "ExecuteTime": {
     "end_time": "2024-09-18T11:07:28.719480Z",
     "start_time": "2024-09-18T11:07:28.714493Z"
    }
   },
   "cell_type": "code",
   "source": [
    "def cross_entropy_loss(y, t):\n",
    "    return -np.sum(np.log())"
   ],
   "id": "d54139e428cd537d",
   "outputs": [],
   "execution_count": 7
  },
  {
   "metadata": {
    "ExecuteTime": {
     "end_time": "2024-09-18T15:41:36.591888Z",
     "start_time": "2024-09-18T15:41:36.563887Z"
    }
   },
   "cell_type": "code",
   "source": [
    "class DataLoader(object):\n",
    "    def __init__(self, data, sequence_length, batch_size):\n",
    "        \"\"\"\n",
    "        Initializes the DataLoader with the given data, sequence length, and batch size.\n",
    "        \n",
    "        Args:\n",
    "            data (str): The input text data.\n",
    "            sequence_length (int): The length of each sequence.\n",
    "            batch_size (int): The size of each batch.\n",
    "        \"\"\"\n",
    "        self.text = data\n",
    "        \n",
    "        self.sequence_length = sequence_length\n",
    "        self.batch_size = batch_size\n",
    "        self.counter = 0\n",
    "        \n",
    "        # Getting list of words, from preprocessed text\n",
    "        self.word_list = self._text_preprocessing()\n",
    "        \n",
    "        # Unique words\n",
    "        self.unique_words = set(self.word_list)\n",
    "        \n",
    "        # Adding unknown token for exceptions\n",
    "        self.unique_words.add('<UNK>')\n",
    "        \n",
    "        # Create a vocabulary with '<UNK>' first\n",
    "        self.word_to_ix = {'<UNK>': 0}\n",
    "        self.word_to_ix.update({tok: idx + 1 for idx, tok in enumerate(self.unique_words - {'<UNK>'})})\n",
    "        \n",
    "        # Create the inverse mapping\n",
    "        self.ix_to_word = {idx: tok for tok, idx in self.word_to_ix.items()}\n",
    "        \n",
    "        self.vocab_size = len(self.word_to_ix)\n",
    "        \n",
    "    def _text_preprocessing(self):\n",
    "        \"\"\"\n",
    "        Preprocesses the text by converting to lowercase, removing numbers, punctuation, and special tokens.\n",
    "        \n",
    "        Returns:\n",
    "            str: The preprocessed text.\n",
    "        \"\"\"\n",
    "        self.text = self.text.lower()\n",
    "        self.text = re.sub(r'\\d+', '', self.text)  # Remove numbers\n",
    "        self.text = re.sub(r\"[^\\w\\s']+\", '', self.text)  # Remove punctuation ( except apostrophes ) \n",
    "        self.text = re.sub(r'\\W+', ' ', self.text)  # Remove special tokens\n",
    "        self.text = self.text.split(' ')\n",
    "        return self.text\n",
    "    \n",
    "    def encode(self, words):\n",
    "        \"\"\"\n",
    "        Encodes the given words into their corresponding indices using the vocabulary.\n",
    "        \n",
    "        Args:\n",
    "            words (str): The words to encode.\n",
    "        \n",
    "        Returns:\n",
    "            list: A list of indices representing the encoded words.\n",
    "        \"\"\"\n",
    "        # For strings\n",
    "        # return [self.word_to_ix.get(word, self.word_to_ix['<UNK>']) for word in words.split(' ')]\n",
    "        # For list of strings\n",
    "        return [self.word_to_ix.get(word, self.word_to_ix['<UNK>']) for word in words]\n",
    "    \n",
    "    def decode(self, indexes):\n",
    "        \"\"\"\n",
    "        Decodes the given indices into their corresponding words using the vocabulary.\n",
    "        \n",
    "        Args:\n",
    "            indexes (list): The indices to decode.\n",
    "        \n",
    "        Returns:\n",
    "            list: A list of words corresponding to the indices.\n",
    "        \"\"\"\n",
    "        return [self.ix_to_word.get(idx, '<UNK>') for idx in indexes]\n",
    "    \n",
    "    def next_batch(self):\n",
    "        \"\"\"\n",
    "        Iterate to the next batch in text.\n",
    "        \n",
    "        Returns:\n",
    "            batches (list): List of (input_sequence, target_sequence) pairs for training.\n",
    "            shape: (batch_size, sequence_length, 2)\n",
    "            None: If there are no more batches left.\n",
    "        \"\"\"\n",
    "        target_offset = 1 # Offset inside the function\n",
    "        num_batches = int(len(self.word_list) / self.batch_size)\n",
    "        batch_sequence = []\n",
    "        if self.counter <= (num_batches * self.batch_size):\n",
    "            for i in range(0, self.batch_size):\n",
    "                # Ensure we don't exceed the list length by taking the minimum of the desired end index and the list length.\n",
    "                # For example, if the desired end is 1002 but text length is 1000, we take 1000, even if the batch isn't full.\n",
    "                input_sequence = self.word_list[self.counter + i : min(len(self.word_list), self.counter + i + self.sequence_length)]\n",
    "                target_sequence = self.word_list[(self.counter + i) + target_offset : min(len(self.word_list), (self.counter + i) + self.sequence_length + target_offset)]\n",
    "                \n",
    "                # Encode the input and target sequences into their corresponding numerical representations.\n",
    "                input_sequence = self.encode(input_sequence)\n",
    "                target_sequence = self.encode(target_sequence)\n",
    "                \n",
    "                batch_sequence.append([input_sequence, target_sequence])\n",
    "                \n",
    "            # One-hot encoding\n",
    "            batch_sequence = np.array(batch_sequence)\n",
    "            input  = one_hot_encode(batch_sequence[:, 0, :], self.vocab_size)\n",
    "            target = batch_sequence[:, 1, :]\n",
    "            # Increasing the counter by the batch size\n",
    "            self.counter += self.batch_size\n",
    "            return input, target\n",
    "        else:\n",
    "            return None\n",
    "    \n",
    "    def drop_counter(self):\n",
    "        \"\"\"\n",
    "        Drops the counter to zero.\n",
    "        \"\"\"\n",
    "        self.counter = 0"
   ],
   "id": "cd0225ea1c1badbf",
   "outputs": [],
   "execution_count": 84
  },
  {
   "metadata": {
    "ExecuteTime": {
     "end_time": "2024-09-18T16:26:47.949303Z",
     "start_time": "2024-09-18T16:26:47.763917Z"
    }
   },
   "cell_type": "code",
   "source": [
    "# Using \"beautiful\" numbers for hyperparameters (x^2)\n",
    "dl = DataLoader(data=train_data, sequence_length=20, batch_size=16)\n",
    "a, b = dl.next_batch()"
   ],
   "id": "29f50ad26ec91a2",
   "outputs": [],
   "execution_count": 123
  },
  {
   "metadata": {
    "ExecuteTime": {
     "end_time": "2024-09-18T16:26:48.386303Z",
     "start_time": "2024-09-18T16:26:48.366308Z"
    }
   },
   "cell_type": "code",
   "source": "a.shape, b.shape",
   "id": "15e09daf7eb9d313",
   "outputs": [
    {
     "data": {
      "text/plain": [
       "((16, 20, 11411), (16, 20))"
      ]
     },
     "execution_count": 124,
     "metadata": {},
     "output_type": "execute_result"
    }
   ],
   "execution_count": 124
  },
  {
   "metadata": {
    "ExecuteTime": {
     "end_time": "2024-09-18T16:27:45.238692Z",
     "start_time": "2024-09-18T16:27:45.222376Z"
    }
   },
   "cell_type": "code",
   "source": [
    "class RNN(object):\n",
    "    def __init__(self, input_size, hidden_size, num_layers=1, nonlinearity='tanh', bias=True):\n",
    "        # Data Loader instance\n",
    "        # self.dataloader = dataloader\n",
    "        \n",
    "        self.num_layers = num_layers\n",
    "        self.input_size = input_size\n",
    "        self.hidden_size = hidden_size\n",
    "        # self.sequence_length = sequence_length \n",
    "        \n",
    "        \n",
    "        # Weights initialization\n",
    "        self.U = nn.Parameter(torch.randn(self.num_layers, self.hidden_size, self.input_size, dtype=torch.float32))  # input weights  \n",
    "        self.W = nn.Parameter(torch.randn(self.num_layers, self.hidden_size, self.hidden_size, dtype=torch.float32)) # hidden weights\n",
    "        self.V = nn.Parameter(torch.randn(self.input_size, self.hidden_size, dtype=torch.float32))                   # output weights\n",
    "        self.b = nn.Parameter(torch.randn(self.hidden_size, ))      # Input bias \n",
    "        self.c = nn.Parameter(torch.randn(self.hidden_size, ))      # Hidden bias\n",
    "    \n",
    "    def forward(self, X, h_0=None):\n",
    "        \"\"\"\n",
    "        RNN forward propagation.\n",
    "    \n",
    "        :return: current_state: Hidden state from current layer.\n",
    "        \"\"\"\n",
    "        \n",
    "        if h_0 is None:\n",
    "            h_0 = torch.zeros((self.num_layers, X.shape[1], self.hidden_size))\n",
    "        h_prev = h_0\n",
    "        h_t = h_0\n",
    "        # Intermediate \"outputs\", storage of our hidden states\n",
    "        output = []\n",
    "        for t in range(X.shape[0]): # Sequence is our time stamp\n",
    "            # In this loop, we take every element of the sequence and do RNN forward path\n",
    "            # After each element, we store our hidden state, and then pass it to the next element\n",
    "            for layer in range(self.num_layers):\n",
    "                Wx = X[t] @ self.U[layer].T             # (L, N, H) - Sequence length, batch size, hidden size\n",
    "                Wh = h_prev[layer] @ self.W[layer].T    # (D, N, H) - Layers num, batch size, hidden size\n",
    "                at = Wx + Wh                            # (L, N, H) - Sequence length, batch size, hidden size\n",
    "                h_t[layer] = torch.tanh(at)             # (L, N, H) - Sequence length, batch size, hidden size\n",
    "            # Append intermediate \"output\" to storage\n",
    "            output.append(h_t[-1])\n",
    "            h_prev = h_t\n",
    "        output = torch.stack(output)\n",
    "        return output, h_t\n",
    "    \n",
    "    def train(self, dataloader, criterion, epoch=10):\n",
    "        for i in range(epoch):\n",
    "            X, y = dataloader.next_batch()\n",
    "            X, y = torch.tensor(X, dtype=torch.float32).permute(1, 0, 2), torch.tensor(y, dtype=torch.float32).permute(1, 0) # L, N, Hin\n",
    "            h_output, h_t = self.forward(X)\n",
    "            output = torch.matmul(h_output, self.V.T)\n",
    "            output = output.view(-1, self.input_size)\n",
    "            target = y.contiguous().view(-1).long()  # Flatten to [batch_size * seq_len]\n",
    "            loss = criterion(output, target)\n",
    "            \n",
    "            print(loss)\n",
    "            break"
   ],
   "id": "c81da385a058152a",
   "outputs": [],
   "execution_count": 130
  },
  {
   "metadata": {
    "ExecuteTime": {
     "end_time": "2024-09-18T16:29:12.549558Z",
     "start_time": "2024-09-18T16:29:12.453559Z"
    }
   },
   "cell_type": "code",
   "source": [
    "rnn = RNN(input_size=dl.vocab_size, hidden_size=100)\n",
    "\n",
    "loss = torch.nn.CrossEntropyLoss()\n",
    "rnn.train(dl, criterion=loss)"
   ],
   "id": "ac0ffe0143caa183",
   "outputs": [
    {
     "name": "stdout",
     "output_type": "stream",
     "text": [
      "tensor(36.3010, grad_fn=<NllLossBackward0>)\n"
     ]
    }
   ],
   "execution_count": 132
  },
  {
   "metadata": {},
   "cell_type": "code",
   "outputs": [],
   "execution_count": null,
   "source": "",
   "id": "878db1c697cef045"
  }
 ],
 "metadata": {
  "kernelspec": {
   "display_name": "Python 3",
   "language": "python",
   "name": "python3"
  },
  "language_info": {
   "codemirror_mode": {
    "name": "ipython",
    "version": 2
   },
   "file_extension": ".py",
   "mimetype": "text/x-python",
   "name": "python",
   "nbconvert_exporter": "python",
   "pygments_lexer": "ipython2",
   "version": "2.7.6"
  }
 },
 "nbformat": 4,
 "nbformat_minor": 5
}
